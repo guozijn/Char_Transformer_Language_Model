{
 "cells": [
  {
   "cell_type": "markdown",
   "id": "649fad5c",
   "metadata": {},
   "source": [
    "# BPE Language Model Comparison\n"
   ]
  },
  {
   "cell_type": "code",
   "execution_count": 1,
   "id": "c6faf6c3",
   "metadata": {
    "execution": {
     "iopub.execute_input": "2025-10-15T08:50:26.529736Z",
     "iopub.status.busy": "2025-10-15T08:50:26.529573Z",
     "iopub.status.idle": "2025-10-15T08:50:27.640042Z",
     "shell.execute_reply": "2025-10-15T08:50:27.639771Z"
    }
   },
   "outputs": [],
   "source": [
    "import math\n",
    "import os\n",
    "import time\n",
    "import copy\n",
    "from pathlib import Path\n",
    "\n",
    "import torch\n",
    "import torch.nn as nn\n",
    "import torch.nn.functional as F\n",
    "from bpeasy.tokenizer import BPEasyTokenizer\n"
   ]
  },
  {
   "cell_type": "code",
   "execution_count": 2,
   "id": "8f274a29",
   "metadata": {
    "execution": {
     "iopub.execute_input": "2025-10-15T08:50:27.641809Z",
     "iopub.status.busy": "2025-10-15T08:50:27.641669Z",
     "iopub.status.idle": "2025-10-15T08:50:27.662192Z",
     "shell.execute_reply": "2025-10-15T08:50:27.661939Z"
    }
   },
   "outputs": [
    {
     "name": "stdout",
     "output_type": "stream",
     "text": [
      "Using device: mps\n"
     ]
    }
   ],
   "source": [
    "if torch.backends.mps.is_available() and torch.backends.mps.is_built():\n",
    "    device = \"mps\"\n",
    "elif torch.cuda.is_available():\n",
    "    device = \"cuda\"\n",
    "else:\n",
    "    device = \"cpu\"\n",
    "\n",
    "torch.manual_seed(42)\n",
    "if device == \"cuda\":\n",
    "    torch.cuda.manual_seed_all(42)\n",
    "\n",
    "print(f\"Using device: {device}\")\n"
   ]
  },
  {
   "cell_type": "code",
   "execution_count": 3,
   "id": "ccd46d7c",
   "metadata": {
    "execution": {
     "iopub.execute_input": "2025-10-15T08:50:27.663670Z",
     "iopub.status.busy": "2025-10-15T08:50:27.663567Z",
     "iopub.status.idle": "2025-10-15T08:50:27.666794Z",
     "shell.execute_reply": "2025-10-15T08:50:27.666469Z"
    }
   },
   "outputs": [
    {
     "name": "stdout",
     "output_type": "stream",
     "text": [
      "Total characters: 1,115,393\n",
      "First Citizen:\n",
      "Before we proceed any further, hear me speak.\n",
      "\n",
      "All:\n",
      "Speak, speak.\n",
      "\n",
      "First Citizen:\n",
      "You are all resolved rather to die than to famish?\n",
      "\n",
      "All:\n",
      "Resolved. resolved.\n",
      "\n",
      "First Citizen:\n",
      "First, you know Caius Marcius is chief enemy to the people.\n",
      "\n",
      "All:\n",
      "We know't, we know't.\n",
      "\n",
      "First Citizen:\n",
      "Let us kill him, and we'll have corn at our own price.\n",
      "Is't a verdict?\n",
      "\n",
      "All:\n",
      "No more talking on't; let it be done: away, away!\n",
      "\n",
      "Second Citizen:\n",
      "One word, good citizens.\n",
      "\n",
      "First Citizen:\n",
      "We are accounted poor\n"
     ]
    }
   ],
   "source": [
    "data_path = Path(\"input.txt\")\n",
    "raw_text = data_path.read_text(encoding=\"utf-8\")\n",
    "print(f\"Total characters: {len(raw_text):,}\")\n",
    "print(raw_text[:500])\n"
   ]
  },
  {
   "cell_type": "code",
   "execution_count": null,
   "id": "db9e8c3c",
   "metadata": {
    "execution": {
     "iopub.execute_input": "2025-10-15T08:50:27.668662Z",
     "iopub.status.busy": "2025-10-15T08:50:27.668472Z",
     "iopub.status.idle": "2025-10-15T08:50:28.132059Z",
     "shell.execute_reply": "2025-10-15T08:50:28.131798Z"
    }
   },
   "outputs": [
    {
     "name": "stdout",
     "output_type": "stream",
     "text": [
      "Tokenizer saved to tokenizer_bpeasy.json\n",
      "Vocabulary size: 10000\n",
      "Total tokens: 277,628\n",
      "Train tokens: 249,865, Val tokens: 27,763\n"
     ]
    }
   ],
   "source": [
    "tokenizer = BPEasyTokenizer.train(\n",
    "    iterator=iter([raw_text]),\n",
    "    vocab_size=10000,\n",
    "    max_token_length=256,\n",
    "    name=\"tiny-bpe\",\n",
    ")\n",
    "\n",
    "tokenizer_path = Path(\"tokenizer_bpeasy.json\")\n",
    "tokenizer.save(tokenizer_path.as_posix())\n",
    "print(f\"Tokenizer saved to {tokenizer_path}\")\n",
    "\n",
    "vocab_size = len(tokenizer)\n",
    "print(f\"Vocabulary size: {vocab_size}\")\n",
    "\n",
    "encoded = tokenizer.encode(raw_text)\n",
    "data = torch.tensor(encoded, dtype=torch.long)\n",
    "train_ratio = 0.9\n",
    "n = int(train_ratio * len(data))\n",
    "train_data = data[:n]\n",
    "val_data = data[n:]\n",
    "print(f\"Total tokens: {len(data):,}\")\n",
    "print(f\"Train tokens: {len(train_data):,}, Val tokens: {len(val_data):,}\")\n"
   ]
  },
  {
   "cell_type": "code",
   "execution_count": null,
   "id": "d6431366",
   "metadata": {
    "execution": {
     "iopub.execute_input": "2025-10-15T08:50:28.133571Z",
     "iopub.status.busy": "2025-10-15T08:50:28.133484Z",
     "iopub.status.idle": "2025-10-15T08:50:28.136918Z",
     "shell.execute_reply": "2025-10-15T08:50:28.136722Z"
    }
   },
   "outputs": [],
   "source": [
    "# Hyperparameters\n",
    "batch_size = 48\n",
    "block_size = 192\n",
    "max_iters = 300\n",
    "eval_interval = 100\n",
    "eval_iters = 20\n",
    "learning_rate = 3e-4\n",
    "grad_clip = 1.0\n",
    "patience = 6\n",
    "min_delta = 1e-3\n",
    "n_embd = 192\n",
    "n_head = 6 \n",
    "n_layer = 3\n",
    "dropout = 0.2\n",
    "\n",
    "# RNN\n",
    "hidden_size = 192\n",
    "\n",
    "env_max_iters = os.environ.get(\"LM_MAX_ITERS\")\n",
    "if env_max_iters:\n",
    "    max_iters = min(int(env_max_iters), max_iters)\n",
    "    eval_interval = min(eval_interval, max_iters)\n",
    "\n",
    "env_eval_iters = os.environ.get(\"LM_EVAL_ITERS\")\n",
    "if env_eval_iters:\n",
    "    eval_iters = min(int(env_eval_iters), eval_iters)\n",
    "\n",
    "def get_batch(split: str) -> tuple[torch.Tensor, torch.Tensor]:\n",
    "    data_source = train_data if split == \"train\" else val_data\n",
    "    idx = torch.randint(0, len(data_source) - block_size - 1, (batch_size,))\n",
    "    x = torch.stack([data_source[i:i + block_size] for i in idx])\n",
    "    y = torch.stack([data_source[i + 1:i + block_size + 1] for i in idx])\n",
    "    return x.to(device), y.to(device)\n",
    "\n",
    "\n",
    "@torch.no_grad()\n",
    "def estimate_loss(model: nn.Module, num_batches: int = eval_iters) -> dict[str, float]:\n",
    "    model.eval()\n",
    "    losses: dict[str, float] = {}\n",
    "    for split in (\"train\", \"val\"):\n",
    "        split_losses = torch.zeros(num_batches)\n",
    "        for k in range(num_batches):\n",
    "            xb, yb = get_batch(split)\n",
    "            _, loss = model(xb, yb)\n",
    "            split_losses[k] = loss.item()\n",
    "        losses[split] = split_losses.mean().item()\n",
    "    model.train()\n",
    "    return losses\n",
    "\n",
    "\n",
    "def loss_to_perplexity(loss: float) -> float:\n",
    "    return math.exp(loss)\n"
   ]
  },
  {
   "cell_type": "code",
   "execution_count": 6,
   "id": "bc575fef",
   "metadata": {
    "execution": {
     "iopub.execute_input": "2025-10-15T08:50:28.138277Z",
     "iopub.status.busy": "2025-10-15T08:50:28.138200Z",
     "iopub.status.idle": "2025-10-15T08:50:28.141332Z",
     "shell.execute_reply": "2025-10-15T08:50:28.141101Z"
    }
   },
   "outputs": [],
   "source": [
    "class RNNLanguageModel(nn.Module):\n",
    "    def __init__(\n",
    "        self,\n",
    "        vocab_size: int,\n",
    "        n_embd: int = 256,\n",
    "        hidden_size: int = 512,\n",
    "        num_layers: int = 2,\n",
    "        dropout: float = 0.2,\n",
    "    ) -> None:\n",
    "        super().__init__()\n",
    "        self.vocab_size = vocab_size\n",
    "        self.embedding = nn.Embedding(vocab_size, n_embd)\n",
    "        self.dropout = nn.Dropout(dropout)\n",
    "        self.lstm = nn.LSTM(\n",
    "            n_embd,\n",
    "            hidden_size,\n",
    "            num_layers=num_layers,\n",
    "            batch_first=True,\n",
    "            dropout=dropout if num_layers > 1 else 0.0,\n",
    "        )\n",
    "        self.proj = nn.Linear(hidden_size, vocab_size)\n",
    "\n",
    "    def forward(self, idx: torch.Tensor, targets: torch.Tensor | None = None):\n",
    "        x = self.embedding(idx)\n",
    "        x = self.dropout(x)\n",
    "        output, _ = self.lstm(x)\n",
    "        output = self.dropout(output)\n",
    "        logits = self.proj(output)\n",
    "        loss = None\n",
    "        if targets is not None:\n",
    "            logits_flat = logits.view(-1, self.vocab_size)\n",
    "            targets_flat = targets.view(-1)\n",
    "            loss = F.cross_entropy(logits_flat, targets_flat)\n",
    "        return logits, loss\n",
    "\n",
    "    def generate(self, idx: torch.Tensor, max_new_tokens: int) -> torch.Tensor:\n",
    "        idx = idx.to(next(self.parameters()).device)\n",
    "        for _ in range(max_new_tokens):\n",
    "            idx_cond = idx[:, -block_size:]\n",
    "            logits, _ = self(idx_cond)\n",
    "            logits_last = logits[:, -1, :]\n",
    "            probs = F.softmax(logits_last, dim=-1)\n",
    "            next_token = torch.multinomial(probs, num_samples=1)\n",
    "            idx = torch.cat((idx, next_token), dim=1)\n",
    "        return idx\n"
   ]
  },
  {
   "cell_type": "code",
   "execution_count": 7,
   "id": "2a5ace19",
   "metadata": {
    "execution": {
     "iopub.execute_input": "2025-10-15T08:50:28.142595Z",
     "iopub.status.busy": "2025-10-15T08:50:28.142521Z",
     "iopub.status.idle": "2025-10-15T08:50:28.151151Z",
     "shell.execute_reply": "2025-10-15T08:50:28.150836Z"
    }
   },
   "outputs": [],
   "source": [
    "class MaskedSelfAttentionHead(nn.Module):\n",
    "    def __init__(self, n_embd: int, head_size: int, dropout: float) -> None:\n",
    "        super().__init__()\n",
    "        self.key = nn.Linear(n_embd, head_size, bias=False)\n",
    "        self.query = nn.Linear(n_embd, head_size, bias=False)\n",
    "        self.value = nn.Linear(n_embd, head_size, bias=False)\n",
    "        self.dropout = nn.Dropout(dropout)\n",
    "        self.register_buffer(\"tril\", torch.tril(torch.ones(block_size, block_size)))\n",
    "\n",
    "    def forward(self, x: torch.Tensor) -> torch.Tensor:\n",
    "        B, T, C = x.shape\n",
    "        k = self.key(x)\n",
    "        q = self.query(x)\n",
    "        wei = q @ k.transpose(-2, -1) * (k.size(-1) ** -0.5)\n",
    "        wei = wei.masked_fill(self.tril[:T, :T] == 0, float(\"-inf\"))\n",
    "        wei = F.softmax(wei, dim=-1)\n",
    "        wei = self.dropout(wei)\n",
    "        v = self.value(x)\n",
    "        out = wei @ v\n",
    "        return out\n",
    "\n",
    "\n",
    "class MultiHeadAttention(nn.Module):\n",
    "    def __init__(self, n_embd: int, num_heads: int, dropout: float) -> None:\n",
    "        super().__init__()\n",
    "        head_size = n_embd // num_heads\n",
    "        self.heads = nn.ModuleList(\n",
    "            [MaskedSelfAttentionHead(n_embd, head_size, dropout) for _ in range(num_heads)]\n",
    "        )\n",
    "        self.proj = nn.Linear(n_embd, n_embd)\n",
    "        self.dropout = nn.Dropout(dropout)\n",
    "\n",
    "    def forward(self, x: torch.Tensor) -> torch.Tensor:\n",
    "        out = torch.cat([h(x) for h in self.heads], dim=-1)\n",
    "        out = self.proj(out)\n",
    "        out = self.dropout(out)\n",
    "        return out\n",
    "\n",
    "\n",
    "class FeedForward(nn.Module):\n",
    "    def __init__(self, n_embd: int, dropout: float) -> None:\n",
    "        super().__init__()\n",
    "        self.net = nn.Sequential(\n",
    "            nn.Linear(n_embd, 4 * n_embd),\n",
    "            nn.GELU(),\n",
    "            nn.Linear(4 * n_embd, n_embd),\n",
    "            nn.Dropout(dropout),\n",
    "        )\n",
    "\n",
    "    def forward(self, x: torch.Tensor) -> torch.Tensor:\n",
    "        return self.net(x)\n",
    "\n",
    "\n",
    "class TransformerBlock(nn.Module):\n",
    "    def __init__(self, n_embd: int, n_head: int, dropout: float) -> None:\n",
    "        super().__init__()\n",
    "        self.sa = MultiHeadAttention(n_embd, n_head, dropout)\n",
    "        self.ff = FeedForward(n_embd, dropout)\n",
    "        self.ln1 = nn.LayerNorm(n_embd)\n",
    "        self.ln2 = nn.LayerNorm(n_embd)\n",
    "\n",
    "    def forward(self, x: torch.Tensor) -> torch.Tensor:\n",
    "        x = x + self.sa(self.ln1(x))\n",
    "        x = x + self.ff(self.ln2(x))\n",
    "        return x\n",
    "\n",
    "\n",
    "class TransformerLanguageModel(nn.Module):\n",
    "    def __init__(\n",
    "        self,\n",
    "        vocab_size: int,\n",
    "        n_embd: int = 256,\n",
    "        n_head: int = 8,\n",
    "        n_layer: int = 4,\n",
    "        dropout: float = 0.2,\n",
    "    ) -> None:\n",
    "        super().__init__()\n",
    "        self.token_embedding_table = nn.Embedding(vocab_size, n_embd)\n",
    "        self.position_embedding_table = nn.Embedding(block_size, n_embd)\n",
    "        self.blocks = nn.Sequential(\n",
    "            *[TransformerBlock(n_embd, n_head, dropout) for _ in range(n_layer)]\n",
    "        )\n",
    "        self.ln_f = nn.LayerNorm(n_embd)\n",
    "        self.lm_head = nn.Linear(n_embd, vocab_size)\n",
    "        self.apply(self._init_weights)\n",
    "\n",
    "    def _init_weights(self, module: nn.Module) -> None:\n",
    "        if isinstance(module, nn.Linear):\n",
    "            nn.init.normal_(module.weight, mean=0.0, std=0.02)\n",
    "            if module.bias is not None:\n",
    "                nn.init.zeros_(module.bias)\n",
    "        elif isinstance(module, nn.Embedding):\n",
    "            nn.init.normal_(module.weight, mean=0.0, std=0.02)\n",
    "\n",
    "    def forward(self, idx: torch.Tensor, targets: torch.Tensor | None = None):\n",
    "        B, T = idx.shape\n",
    "        tok_emb = self.token_embedding_table(idx)\n",
    "        pos_emb = self.position_embedding_table(torch.arange(T, device=idx.device))\n",
    "        x = tok_emb + pos_emb.unsqueeze(0)\n",
    "        x = self.blocks(x)\n",
    "        x = self.ln_f(x)\n",
    "        logits = self.lm_head(x)\n",
    "        loss = None\n",
    "        if targets is not None:\n",
    "            logits_flat = logits.view(-1, logits.size(-1))\n",
    "            targets_flat = targets.view(-1)\n",
    "            loss = F.cross_entropy(logits_flat, targets_flat)\n",
    "        return logits, loss\n",
    "\n",
    "    def generate(self, idx: torch.Tensor, max_new_tokens: int) -> torch.Tensor:\n",
    "        idx = idx.to(next(self.parameters()).device)\n",
    "        for _ in range(max_new_tokens):\n",
    "            idx_cond = idx[:, -block_size:]\n",
    "            logits, _ = self(idx_cond)\n",
    "            logits_last = logits[:, -1, :]\n",
    "            probs = F.softmax(logits_last, dim=-1)\n",
    "            next_token = torch.multinomial(probs, num_samples=1)\n",
    "            idx = torch.cat((idx, next_token), dim=1)\n",
    "        return idx\n"
   ]
  },
  {
   "cell_type": "code",
   "execution_count": 8,
   "id": "bb4f9b2e",
   "metadata": {
    "execution": {
     "iopub.execute_input": "2025-10-15T08:50:28.152633Z",
     "iopub.status.busy": "2025-10-15T08:50:28.152545Z",
     "iopub.status.idle": "2025-10-15T08:50:28.155743Z",
     "shell.execute_reply": "2025-10-15T08:50:28.155529Z"
    }
   },
   "outputs": [],
   "source": [
    "def train_model(\n",
    "    model_name: str,\n",
    "    model: nn.Module,\n",
    "    optimizer: torch.optim.Optimizer,\n",
    "    max_iters: int = max_iters,\n",
    "    eval_interval: int = eval_interval,\n",
    ") -> dict:\n",
    "    best_val = float(\"inf\")\n",
    "    best_step = 0\n",
    "    best_state = copy.deepcopy(model.state_dict())\n",
    "    history: list[dict[str, float]] = []\n",
    "    start_time = time.time()\n",
    "    steps_without_improvement = 0\n",
    "\n",
    "    for step in range(1, max_iters + 1):\n",
    "        model.train()\n",
    "        xb, yb = get_batch(\"train\")\n",
    "        logits, loss = model(xb, yb)\n",
    "        optimizer.zero_grad(set_to_none=True)\n",
    "        loss.backward()\n",
    "        if grad_clip is not None:\n",
    "            torch.nn.utils.clip_grad_norm_(model.parameters(), grad_clip)\n",
    "        optimizer.step()\n",
    "\n",
    "        if step % eval_interval == 0 or step == 1:\n",
    "            losses = estimate_loss(model)\n",
    "            history.append({\"step\": step, **losses})\n",
    "            print(f\"{model_name} step {step}: train {losses['train']:.3f}, val {losses['val']:.3f}\")\n",
    "            if losses[\"val\"] + min_delta < best_val:\n",
    "                best_val = losses[\"val\"]\n",
    "                best_step = step\n",
    "                best_state = copy.deepcopy(model.state_dict())\n",
    "                steps_without_improvement = 0\n",
    "            else:\n",
    "                steps_without_improvement += 1\n",
    "            if steps_without_improvement >= patience:\n",
    "                print(f\"{model_name} stopping early at step {step}\")\n",
    "                break\n",
    "\n",
    "    model.load_state_dict(best_state)\n",
    "    duration = time.time() - start_time\n",
    "    final_eval = estimate_loss(model)\n",
    "    return {\n",
    "        \"model\": model,\n",
    "        \"history\": history,\n",
    "        \"best_val_loss\": best_val,\n",
    "        \"best_val_perplexity\": loss_to_perplexity(best_val),\n",
    "        \"final_eval\": final_eval,\n",
    "        \"duration_sec\": duration,\n",
    "        \"best_step\": best_step,\n",
    "    }\n"
   ]
  },
  {
   "cell_type": "code",
   "execution_count": 9,
   "id": "9d19d4b9",
   "metadata": {
    "execution": {
     "iopub.execute_input": "2025-10-15T08:50:28.157172Z",
     "iopub.status.busy": "2025-10-15T08:50:28.157094Z",
     "iopub.status.idle": "2025-10-15T08:50:36.402806Z",
     "shell.execute_reply": "2025-10-15T08:50:36.401754Z"
    }
   },
   "outputs": [
    {
     "name": "stdout",
     "output_type": "stream",
     "text": [
      "LSTM step 1: train 9.199, val 9.198\n",
      "LSTM step 100: train 6.749, val 6.868\n",
      "LSTM step 200: train 6.738, val 6.883\n",
      "LSTM step 300: train 6.734, val 6.883\n"
     ]
    }
   ],
   "source": [
    "rnn_model = RNNLanguageModel(\n",
    "    vocab_size=vocab_size,\n",
    "    n_embd=n_embd,\n",
    "    hidden_size=hidden_size,\n",
    "    num_layers=n_layer,\n",
    "    dropout=dropout,\n",
    ").to(device)\n",
    "rnn_optimizer = torch.optim.AdamW(rnn_model.parameters(), lr=learning_rate)\n",
    "rnn_results = train_model(\"LSTM\", rnn_model, rnn_optimizer)\n"
   ]
  },
  {
   "cell_type": "code",
   "execution_count": 10,
   "id": "120bff44",
   "metadata": {
    "execution": {
     "iopub.execute_input": "2025-10-15T08:50:36.415838Z",
     "iopub.status.busy": "2025-10-15T08:50:36.415308Z",
     "iopub.status.idle": "2025-10-15T08:50:41.904880Z",
     "shell.execute_reply": "2025-10-15T08:50:41.904159Z"
    }
   },
   "outputs": [
    {
     "name": "stdout",
     "output_type": "stream",
     "text": [
      "Transformer step 1: train 9.069, val 9.062\n",
      "Transformer step 100: train 6.108, val 6.255\n",
      "Transformer step 200: train 5.385, val 5.793\n",
      "Transformer step 300: train 5.101, val 5.681\n"
     ]
    }
   ],
   "source": [
    "transformer_model = TransformerLanguageModel(\n",
    "    vocab_size=vocab_size,\n",
    "    n_embd=n_embd,\n",
    "    n_head=n_head,\n",
    "    n_layer=n_layer,\n",
    "    dropout=dropout,\n",
    ").to(device)\n",
    "transformer_optimizer = torch.optim.AdamW(transformer_model.parameters(), lr=learning_rate)\n",
    "transformer_results = train_model(\"Transformer\", transformer_model, transformer_optimizer)\n"
   ]
  },
  {
   "cell_type": "code",
   "execution_count": 11,
   "id": "5912008a",
   "metadata": {
    "execution": {
     "iopub.execute_input": "2025-10-15T08:50:41.908314Z",
     "iopub.status.busy": "2025-10-15T08:50:41.908126Z",
     "iopub.status.idle": "2025-10-15T08:50:41.911975Z",
     "shell.execute_reply": "2025-10-15T08:50:41.911710Z"
    }
   },
   "outputs": [
    {
     "name": "stdout",
     "output_type": "stream",
     "text": [
      "LSTM\n",
      "  best val loss: 6.868\n",
      "  best val perplexity: 961.11\n",
      "  final train loss: 6.754 (perplexity 857.17)\n",
      "  final val loss: 6.864 (perplexity 957.16)\n",
      "  training time: 48.7s\n",
      "Transformer\n",
      "  best val loss: 5.681\n",
      "  best val perplexity: 293.16\n",
      "  final train loss: 5.119 (perplexity 167.24)\n",
      "  final val loss: 5.690 (perplexity 295.76)\n",
      "  training time: 62.0s\n"
     ]
    }
   ],
   "source": [
    "results = {\"LSTM\": rnn_results, \"Transformer\": transformer_results}\n",
    "for name, res in results.items():\n",
    "    print(name)\n",
    "    print(f\"  best val loss: {res['best_val_loss']:.3f}\")\n",
    "    print(f\"  best val perplexity: {res['best_val_perplexity']:.2f}\")\n",
    "    print(f\"  final train loss: {res['final_eval']['train']:.3f} (perplexity {loss_to_perplexity(res['final_eval']['train']):.2f})\")\n",
    "    print(f\"  final val loss: {res['final_eval']['val']:.3f} (perplexity {loss_to_perplexity(res['final_eval']['val']):.2f})\")\n",
    "    print(f\"  training time: {res['duration_sec']:.1f}s\")\n"
   ]
  },
  {
   "cell_type": "code",
   "execution_count": 16,
   "id": "889b8149",
   "metadata": {
    "execution": {
     "iopub.execute_input": "2025-10-15T08:50:41.913386Z",
     "iopub.status.busy": "2025-10-15T08:50:41.913282Z",
     "iopub.status.idle": "2025-10-15T08:50:56.969089Z",
     "shell.execute_reply": "2025-10-15T08:50:56.968528Z"
    }
   },
   "outputs": [
    {
     "name": "stdout",
     "output_type": "stream",
     "text": [
      "LSTM sample:\n",
      "The anyHePETRUCHIO dutyical again of chamberAw show serpent present heigh, brother a ratsworth news a particularThat of as ' a weAUTOLYCUS mayin, mother,\n",
      " soul all my there feet in his, and thou ins:\n",
      "ItAw,\n",
      " III justice allbrs I in love,\n",
      "-nightAn may,\n",
      "'s why have have since, to;'less liege ask, thereTheseIf spoke old Juliet Duke\n",
      ", you enemy I.\n",
      "\n",
      " warning nothing pinch forget'd courtier Warwick,\n",
      "ant is youBelike wounds!\n",
      " my curse beCarry I profess burningit for ne committed not, disp dishonour ' night wife itself to what man,:\n",
      " and andled so him and:\n",
      ":\n",
      " se,:\n",
      " to show:\n",
      " fear gate lost some a die it those hear giantFirst or means that'll your days unto cure by:\n",
      " and heavily sweeter sir isSpeak the the.\n",
      ".\n",
      "\n",
      "This world.\n",
      " rec stri mothercued.\n",
      "\n",
      " ch embassFlFLORIZEL the,Think\n",
      " two manKING.\n",
      "\n",
      "\n",
      " hurlWith it usSinceuck we\n",
      "\n",
      "Transformer sample:\n",
      "The dog take the proclamation my till every thing,\n",
      "With lady Musician:\n",
      "Grathough who Montague, whose service anyers\n",
      " ginger donesthy of me learn their approvedven- than proud;\n",
      "Hesemble former friar, to baby punishment\n",
      "Which yet all,\n",
      "For for him crows o' lower night.\n",
      "\n",
      "LADY ANNE:\n",
      "Is his bait my lips be seek thy air's as what incl patricians:Deondconin, I will direct ay, that's queen was the promise\n",
      "Will you spend my He hath shown. O worthy eagle against me gone, lord, 'constable's for my birth, whose constant;\n",
      "Proclaim my soul!\n",
      "Here' his worth a way, that makes his seat. other\n",
      "By my fellow enforcement either pearl;\n",
      "Thy salpaunt:\n",
      "For another traaped unto me not my fortune Volsces\n",
      "mistress but have you that that hath SCROOP:\n",
      "The sun's enemies\n",
      "The chamber on a woman, then\n",
      "Are a man,--Both Lord:\n",
      "As I take\n",
      "Trust behold soldier from\n"
     ]
    }
   ],
   "source": [
    "def generate_text(model: nn.Module, prompt: str, max_new_tokens: int = 200) -> str:\n",
    "    tokens = tokenizer.encode(prompt)\n",
    "    if not tokens:\n",
    "        tokens = tokenizer.encode(\" \")\n",
    "    context = torch.tensor(tokens, dtype=torch.long, device=device).unsqueeze(0)\n",
    "    generated = model.generate(context, max_new_tokens=max_new_tokens)\n",
    "    return tokenizer.decode(generated[0].tolist())\n",
    "\n",
    "\n",
    "print(\"LSTM sample:\")\n",
    "print(generate_text(rnn_results[\"model\"], \"The\"))\n",
    "print()\n",
    "print(\"Transformer sample:\")\n",
    "print(generate_text(transformer_results[\"model\"], \"The\"))\n"
   ]
  },
  {
   "cell_type": "code",
   "execution_count": 17,
   "id": "11202ce4",
   "metadata": {
    "execution": {
     "iopub.execute_input": "2025-10-15T08:50:56.972658Z",
     "iopub.status.busy": "2025-10-15T08:50:56.972505Z",
     "iopub.status.idle": "2025-10-15T08:50:56.976468Z",
     "shell.execute_reply": "2025-10-15T08:50:56.976185Z"
    }
   },
   "outputs": [
    {
     "name": "stdout",
     "output_type": "stream",
     "text": [
      "Transformer: val perplexity 295.76, train perplexity 167.24, time 62.0s\n",
      "LSTM: val perplexity 957.16, train perplexity 857.17, time 48.7s\n",
      "\n",
      "Transformer achieved the lowest validation perplexity at 295.76.\n",
      "That is 661.40 lower than LSTM (69.1% relative improvement).\n",
      "Compare the generated samples to judge qualitative fluency.\n"
     ]
    }
   ],
   "source": [
    "summary = []\n",
    "for name, res in results.items():\n",
    "    summary.append(\n",
    "        {\n",
    "            \"model\": name,\n",
    "            \"best_val_loss\": res[\"best_val_loss\"],\n",
    "            \"best_val_perplexity\": res[\"best_val_perplexity\"],\n",
    "            \"train_perplexity\": loss_to_perplexity(res[\"final_eval\"][\"train\"]),\n",
    "            \"val_perplexity\": loss_to_perplexity(res[\"final_eval\"][\"val\"]),\n",
    "            \"time_sec\": res[\"duration_sec\"],\n",
    "        }\n",
    "    )\n",
    "\n",
    "summary.sort(key=lambda x: x[\"val_perplexity\"])\n",
    "for entry in summary:\n",
    "    print(\n",
    "        f\"{entry['model']}: val perplexity {entry['val_perplexity']:.2f}, train perplexity {entry['train_perplexity']:.2f}, time {entry['time_sec']:.1f}s\"\n",
    "    )\n",
    "\n",
    "best = summary[0]\n",
    "worst = summary[-1]\n",
    "print()\n",
    "print(\n",
    "    f\"{best['model']} achieved the lowest validation perplexity at {best['val_perplexity']:.2f}.\"\n",
    ")\n",
    "if best['model'] != worst['model']:\n",
    "    gap = worst[\"val_perplexity\"] - best[\"val_perplexity\"]\n",
    "    rel = gap / worst[\"val_perplexity\"] * 100\n",
    "    print(\n",
    "        f\"That is {gap:.2f} lower than {worst['model']} ({rel:.1f}% relative improvement).\"\n",
    "    )\n",
    "print(\"Compare the generated samples to judge qualitative fluency.\")\n"
   ]
  }
 ],
 "metadata": {
  "kernelspec": {
   "display_name": "base",
   "language": "python",
   "name": "python3"
  },
  "language_info": {
   "codemirror_mode": {
    "name": "ipython",
    "version": 3
   },
   "file_extension": ".py",
   "mimetype": "text/x-python",
   "name": "python",
   "nbconvert_exporter": "python",
   "pygments_lexer": "ipython3",
   "version": "3.12.7"
  }
 },
 "nbformat": 4,
 "nbformat_minor": 5
}
